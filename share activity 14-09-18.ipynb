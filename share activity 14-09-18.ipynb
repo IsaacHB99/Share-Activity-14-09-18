{
 "cells": [
  {
   "cell_type": "code",
   "execution_count": 7,
   "metadata": {},
   "outputs": [],
   "source": [
    "import pandas as pd\n",
    "import matplotlib.pyplot as plt\n",
    "%matplotlib inline\n",
    "bikes = pd.read_csv(\"sheep.csv\")"
   ]
  },
  {
   "cell_type": "code",
   "execution_count": 8,
   "metadata": {},
   "outputs": [
    {
     "data": {
      "text/html": [
       "<div>\n",
       "<style scoped>\n",
       "    .dataframe tbody tr th:only-of-type {\n",
       "        vertical-align: middle;\n",
       "    }\n",
       "\n",
       "    .dataframe tbody tr th {\n",
       "        vertical-align: top;\n",
       "    }\n",
       "\n",
       "    .dataframe thead th {\n",
       "        text-align: right;\n",
       "    }\n",
       "</style>\n",
       "<table border=\"1\" class=\"dataframe\">\n",
       "  <thead>\n",
       "    <tr style=\"text-align: right;\">\n",
       "      <th></th>\n",
       "      <th>Year</th>\n",
       "      <th>Sheeps</th>\n",
       "    </tr>\n",
       "  </thead>\n",
       "  <tbody>\n",
       "    <tr>\n",
       "      <th>0</th>\n",
       "      <td>1867</td>\n",
       "      <td>2203</td>\n",
       "    </tr>\n",
       "    <tr>\n",
       "      <th>1</th>\n",
       "      <td>1868</td>\n",
       "      <td>2360</td>\n",
       "    </tr>\n",
       "    <tr>\n",
       "      <th>2</th>\n",
       "      <td>1869</td>\n",
       "      <td>2254</td>\n",
       "    </tr>\n",
       "    <tr>\n",
       "      <th>3</th>\n",
       "      <td>1870</td>\n",
       "      <td>2165</td>\n",
       "    </tr>\n",
       "    <tr>\n",
       "      <th>4</th>\n",
       "      <td>1871</td>\n",
       "      <td>2024</td>\n",
       "    </tr>\n",
       "  </tbody>\n",
       "</table>\n",
       "</div>"
      ],
      "text/plain": [
       "   Year  Sheeps\n",
       "0  1867    2203\n",
       "1  1868    2360\n",
       "2  1869    2254\n",
       "3  1870    2165\n",
       "4  1871    2024"
      ]
     },
     "execution_count": 8,
     "metadata": {},
     "output_type": "execute_result"
    }
   ],
   "source": [
    "bikes.head()"
   ]
  },
  {
   "cell_type": "code",
   "execution_count": 9,
   "metadata": {},
   "outputs": [
    {
     "data": {
      "text/plain": [
       "<matplotlib.axes._subplots.AxesSubplot at 0x12b98739d30>"
      ]
     },
     "execution_count": 9,
     "metadata": {},
     "output_type": "execute_result"
    },
    {
     "data": {
      "image/png": "[encoded data removed]",
      "text/plain": [
       "<Figure size 432x288 with 1 Axes>"
      ]
     },
     "metadata": {},
     "output_type": "display_data"
    }
   ],
   "source": [
    "bikes[2:73].plot(x=\"Year\", y=\"Sheeps\")"
   ]
  },
  {
   "cell_type": "code",
   "execution_count": 10,
   "metadata": {},
   "outputs": [],
   "source": [
    "import numpy as np\n",
    "X = bikes[\"Year\"]\n",
    "y = bikes[\"Sheeps\"]\n",
    "Xn = X/X.max()\n",
    "\n",
    "yn = y/100\n",
    "\n",
    "import pandas as pd\n",
    "import matplotlib.pyplot as plt\n",
    "%matplotlib inline\n",
    "class RedNeuronal(object):\n",
    "    def __init__(self):\n",
    "        self.inputs = 2\n",
    "        self.hidden = 3\n",
    "        self.outputs = 1\n",
    "        self.W1 = np.random.randn(self.inputs, self.hidden)\n",
    "        self.W2 = np.random.randn(self.hidden, self.outputs)\n",
    "        \n",
    "    def sigmoide(self, Z):\n",
    "        return 1/(1+np.exp(-Z))\n",
    "    \n",
    "    def feedForward(self,X):\n",
    "        self.z2 = X @ self.W1\n",
    "        self.a2 = self.sigmoide(self.z2)\n",
    "        self.z3 = self.a2 @ self.W2\n",
    "        self.yhat = self.sigmoide(self.z3)\n",
    "        return self.yhat\n",
    "    \n",
    "    def sigmoideDerivada(self,Z):\n",
    "        return np.exp(-Z)/((1+np.exp(-Z))**2)\n",
    "    \n",
    "    def funcionCosto(self, X, y):\n",
    "        self.yhat = self.feedForward(X)\n",
    "        Costo = 0.5*sum((y-self.yhat)**2)\n",
    "        return Costo\n",
    "    \n",
    "    def funcionDeCostoDerivada(self, X, y):\n",
    "    #Predicciones\n",
    "        self.yhat = self.feedForward(X) \n",
    "    \n",
    "    #delta 3 = diferencia de y -yhat * derivadaFuncionActivacion\n",
    "        self.delta3 = np.multiply(-(y-self.yhat), self.sigmoideDerivada(self.z3))\n",
    "    \n",
    "    #djW2 = producto de la transpuesta a2 * delta 3\n",
    "        djW2 = self.a2.T @ self.delta3\n",
    "    \n",
    "    #delta2 = delta3 * transpuesta W2 * sigmoideDerivada z2\n",
    "        self.delta2 = self.delta3 @ self.W2.T * self.sigmoideDerivada(self.z2)\n",
    "    \n",
    "    #djW1 delta2 * transpuesta x\n",
    "        djW1 = X.T @ self.delta2\n",
    "    \n",
    "        return djW1 , djW2\n",
    "    \n",
    "    def getPesos(self):\n",
    "        data = np.concatenate((self.W1.ravel(), self.W2.ravel()))\n",
    "        return data\n",
    "   \n",
    "    def setPesos(self, datos):\n",
    "        W1_inicio = 0\n",
    "        W1_fin = self.hidden * self.inputs\n",
    "        self.W1 = np.reshape(datos[W1_inicio:W1_fin], (self.inputs , self.hidden))\n",
    "        W2_fin = W1_fin + self.hidden*self.outputs\n",
    "        self.W2 = np.reshape(datos[W1_fin:W2_fin], (self.hidden, self.outputs))\n",
    "   \n",
    "    def getGradientes(self, X, y):\n",
    "        djW1, djW2 = self.funcionDeCostoDerivada(X, y)\n",
    "        return np.concatenate((djW1.ravel(), djW2.ravel()))\n",
    "    "
   ]
  },
  {
   "cell_type": "code",
   "execution_count": 11,
   "metadata": {},
   "outputs": [],
   "source": [
    "nn = RedNeuronal()"
   ]
  },
  {
   "cell_type": "code",
   "execution_count": 16,
   "metadata": {},
   "outputs": [],
   "source": [
    "e = Entrenador(nn)"
   ]
  },
  {
   "cell_type": "code",
   "execution_count": 17,
   "metadata": {},
   "outputs": [],
   "source": [
    "#Entrenamiento\n",
    "trainX = np.array(([3,5], [5,1], [10,2], [6,1.5]), dtype=float)\n",
    "trainY = np.array(([75], [82], [93], [70]), dtype=float)\n",
    " \n",
    "#Pruebas\n",
    "testX = np.array(([4, 5.5], [4.5,1], [9,2.5], [6, 2]), dtype=float)\n",
    "testY = np.array(([70], [89], [85], [75]), dtype=float)\n",
    " \n",
    "#Normalización\n",
    "trainX = trainX/np.amax(trainX, axis=0)\n",
    "trainY = trainY/100\n",
    " \n",
    "testX = testX/np.amax(trainX, axis=0)\n",
    "testY = testY/100"
   ]
  },
  {
   "cell_type": "code",
   "execution_count": 18,
   "metadata": {},
   "outputs": [],
   "source": [
    "from scipy import optimize\n",
    "class Entrenador:\n",
    "    def __init__(self, unaRed):\n",
    "        #referencia a una red local\n",
    "        self.NN = unaRed\n",
    "       \n",
    "    def actualizaPesos(self, params):\n",
    "        self.NN.setPesos(params)\n",
    "        self.Costos.append(self.NN.funcionCosto(self.X, self.y)) \n",
    "        self.CostosTest.append(self.NN.funcionCosto(self.Xtest, self.ytest))\n",
    "       \n",
    "    def obtenPesosNN(self, params, X, y):\n",
    "        self.NN.setPesos(params)\n",
    "        cost = self.NN.funcionCosto(X, y)\n",
    "        grad = self.NN.getGradientes(X, y)        \n",
    "        return cost, grad\n",
    "       \n",
    "    def entrena(self, Xtrain, ytrain, Xtest, ytest):\n",
    "        # variables para funciones callback\n",
    "        self.X = Xtrain\n",
    "        self.y = ytrain\n",
    "        \n",
    "        self.Xtest = Xtest\n",
    "        self.ytest = ytest\n",
    "           \n",
    "        # lista temporal de costos\n",
    "        self.Costos = []\n",
    "        self.CostosTest = []\n",
    "        \n",
    "        pesos = self.NN.getPesos()\n",
    " \n",
    "        opciones = {'maxiter': 200, 'disp' : True}\n",
    "       \n",
    "        #self.obtenPesosNN, funcion objetivo\n",
    "        #args=(X, y), input / output data\n",
    "        # salida, regresa el costo y los gradientes\n",
    "        salida = optimize.minimize(self.obtenPesosNN, pesos, jac=True, method='BFGS', \\\n",
    "                                 args=(Xtrain, ytrain), options=opciones, callback=self.actualizaPesos)\n",
    " \n",
    "        self.NN.setPesos(salida.x)\n",
    "        self.resultados = salida"
   ]
  },
  {
   "cell_type": "code",
   "execution_count": 19,
   "metadata": {},
   "outputs": [
    {
     "name": "stdout",
     "output_type": "stream",
     "text": [
      "Warning: Maximum number of iterations has been exceeded.\n",
      "         Current function value: 0.000303\n",
      "         Iterations: 200\n",
      "         Function evaluations: 227\n",
      "         Gradient evaluations: 227\n"
     ]
    }
   ],
   "source": [
    "nn = RedNeuronal()\n",
    "e = Entrenador (nn)\n",
    "e.entrena(trainX, trainY, testX, testY)"
   ]
  },
  {
   "cell_type": "code",
   "execution_count": 21,
   "metadata": {},
   "outputs": [
    {
     "data": {
      "text/plain": [
       "Text(0.5,0,'iteracion')"
      ]
     },
     "execution_count": 21,
     "metadata": {},
     "output_type": "execute_result"
    },
    {
     "data": {
      "image/png": "[encoded data removed]",
      "text/plain": [
       "<Figure size 432x288 with 1 Axes>"
      ]
     },
     "metadata": {},
     "output_type": "display_data"
    }
   ],
   "source": [
    "plt.plot(e.Costos)\n",
    "plt.plot(e.CostosTest)\n",
    "plt.grid(1)\n",
    "plt.ylabel(\"costo\")\n",
    "plt.xlabel(\"iteracion\")"
   ]
  },
  {
   "cell_type": "code",
   "execution_count": null,
   "metadata": {},
   "outputs": [],
   "source": []
  }
 ],
 "metadata": {
  "kernelspec": {
   "display_name": "Python 3",
   "language": "python",
   "name": "python3"
  },
  "language_info": {
   "codemirror_mode": {
    "name": "ipython",
    "version": 3
   },
   "file_extension": ".py",
   "mimetype": "text/x-python",
   "name": "python",
   "nbconvert_exporter": "python",
   "pygments_lexer": "ipython3",
   "version": "3.6.5"
  }
 },
 "nbformat": 4,
 "nbformat_minor": 2
}
